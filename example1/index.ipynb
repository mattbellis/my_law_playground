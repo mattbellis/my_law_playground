{
 "cells": [
  {
   "cell_type": "code",
   "execution_count": null,
   "id": "31b56d6d",
   "metadata": {},
   "outputs": [],
   "source": [
    "import law\n",
    "law.contrib.load(\"ipython\")\n",
    "law.ipython.register_magics(init_cmd=\"source setup.sh\", line_cmd=\"source setup.sh\", log_level=\"INFO\")"
   ]
  },
  {
   "cell_type": "markdown",
   "id": "8ec8c640",
   "metadata": {},
   "source": [
    "# Files\n",
    "\n",
    "I need\n",
    "\n",
    "* `setup.sh`\n",
    "* `law.cfg`\n",
    "* `tasks.cfg`"
   ]
  },
  {
   "cell_type": "code",
   "execution_count": null,
   "id": "109458a4",
   "metadata": {},
   "outputs": [],
   "source": [
    "%law index --verbose"
   ]
  },
  {
   "cell_type": "code",
   "execution_count": null,
   "id": "82aab538",
   "metadata": {},
   "outputs": [],
   "source": [
    "%law index --show"
   ]
  },
  {
   "cell_type": "code",
   "execution_count": null,
   "id": "4fb8e825",
   "metadata": {},
   "outputs": [],
   "source": [
    "%law run GenerateFile --print-status -1\n"
   ]
  },
  {
   "cell_type": "code",
   "execution_count": null,
   "id": "16d624ee",
   "metadata": {},
   "outputs": [],
   "source": [
    "%law run GenerateFile --print-status 0"
   ]
  },
  {
   "cell_type": "code",
   "execution_count": null,
   "id": "fa46572f",
   "metadata": {},
   "outputs": [],
   "source": [
    "%law run GenerateFile --help"
   ]
  },
  {
   "cell_type": "code",
   "execution_count": null,
   "id": "b709a0fb",
   "metadata": {},
   "outputs": [],
   "source": [
    "%law run GenerateFile"
   ]
  },
  {
   "cell_type": "code",
   "execution_count": null,
   "id": "df1d24dc",
   "metadata": {},
   "outputs": [],
   "source": [
    "%law run GenerateFile --remove-output 1,a"
   ]
  },
  {
   "cell_type": "code",
   "execution_count": null,
   "id": "816acbee",
   "metadata": {},
   "outputs": [],
   "source": []
  }
 ],
 "metadata": {
  "kernelspec": {
   "display_name": "Python 3 (ipykernel)",
   "language": "python",
   "name": "python3"
  },
  "language_info": {
   "codemirror_mode": {
    "name": "ipython",
    "version": 3
   },
   "file_extension": ".py",
   "mimetype": "text/x-python",
   "name": "python",
   "nbconvert_exporter": "python",
   "pygments_lexer": "ipython3",
   "version": "3.9.12"
  }
 },
 "nbformat": 4,
 "nbformat_minor": 5
}
